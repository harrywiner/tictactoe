{
 "cells": [
  {
   "cell_type": "code",
   "execution_count": 1,
   "metadata": {},
   "outputs": [],
   "source": [
    "from typing import List\n",
    "from pydantic import BaseModel"
   ]
  },
  {
   "cell_type": "code",
   "execution_count": 7,
   "metadata": {},
   "outputs": [],
   "source": [
    "# board = Board(dimensions=(3,3))\n",
    "# board.push((2,2))\n",
    "# board.push((1,1))\n",
    "# print(board)"
   ]
  },
  {
   "cell_type": "code",
   "execution_count": 8,
   "metadata": {},
   "outputs": [],
   "source": [
    "# print(board.get_mark_at_position((0,0)))\n",
    "# print(board.get_mark_at_position((1,1)))\n",
    "# print(board.get_mark_at_position((2,2)))"
   ]
  },
  {
   "cell_type": "code",
   "execution_count": 9,
   "metadata": {},
   "outputs": [
    {
     "name": "stdout",
     "output_type": "stream",
     "text": [
      "Score: 2 | Nodes: 2\n"
     ]
    }
   ],
   "source": [
    "class Eval(BaseModel):\n",
    "    score: int\n",
    "    nodes: int\n",
    "    \n",
    "    def __iadd__(self, other):\n",
    "        self.score += other.score\n",
    "        self.nodes += other.nodes\n",
    "        return self\n",
    "    \n",
    "    def __str__(self):\n",
    "        return f\"Score: {self.score} | Nodes: {self.nodes}\"\n",
    "    \n",
    "    \n",
    "a = Eval(score=1, nodes=1)\n",
    "b = Eval(score=1, nodes=1)\n",
    "a += b\n",
    "print(a)"
   ]
  },
  {
   "cell_type": "code",
   "execution_count": 46,
   "metadata": {},
   "outputs": [
    {
     "name": "stdout",
     "output_type": "stream",
     "text": [
      "2\n"
     ]
    }
   ],
   "source": [
    "\n",
    "\n",
    "\n",
    "class Board(BaseModel):\n",
    "    stateX: int\n",
    "    stateO: int\n",
    "    \n",
    "    PLAYER_X = bool(0)\n",
    "    PLAYER_O = bool(1)\n",
    "    \n",
    "    NO_RESULT = 0\n",
    "    DRAW = 1\n",
    "    X_WIN = 2\n",
    "    O_WIN = 3\n",
    "    \n",
    "    board_len=3\n",
    "    \n",
    "    win_masks=[\n",
    "        292,146,73,\n",
    "        448,56,7,\n",
    "        273,84\n",
    "    ]\n",
    "    def get_legal_moves(self):\n",
    "        moves = []\n",
    "        state = self.stateX | self.stateO\n",
    "        for i in range(self.board_len):\n",
    "            for j in range(self.board_len):\n",
    "                mask = 2 ** (i + j * self.board_len)\n",
    "                if mask & state != mask:\n",
    "                    moves.append((i, j))\n",
    "        return moves\n",
    "    def make_move(self, move: tuple[int, int], player: bool):\n",
    "        if player == PLAYER_X:\n",
    "            self.stateX |= (1 << (move[0] + move[1] * self.board_len))\n",
    "        elif player == PLAYER_O:\n",
    "            self.stateO |= (1 << (move[0] + move[1] * self.board_len))\n",
    "        pass\n",
    "    def __str__(self):\n",
    "        return f\"X's: {'{0:b}'.format(self.stateX)}, O's: {'{0:b}'.format(self.stateO)}, Filled: {'{0:b}'.format(self.stateX | self.stateO)}\"\n",
    "    \n",
    "    def result(self):\n",
    "        if   any([w == w & self.stateO for w in self.win_masks]): return self.O_WIN\n",
    "        elif any([w == w & self.stateX for w in self.win_masks]): return self.X_WIN\n",
    "        elif (self.stateX | self.stateO) == 511: return self.DRAW\n",
    "        else: return self.NO_RESULT\n",
    "            \n",
    "\n",
    "board = Board(stateX=0, stateO=0)\n",
    "board.make_move((1,1), PLAYER_X)\n",
    "board.make_move((0,0), PLAYER_O)\n",
    "board.make_move((1,0), PLAYER_X)\n",
    "board.make_move((0,1), PLAYER_O)\n",
    "board.make_move((1,2), PLAYER_X)\n",
    "print(board.result())"
   ]
  },
  {
   "cell_type": "code",
   "execution_count": 44,
   "metadata": {},
   "outputs": [],
   "source": [
    "xwin = Board(stateX=0, stateO=0)\n",
    "xwin.make_move((1,1), PLAYER_X)\n",
    "xwin.make_move((0,0), PLAYER_O)\n",
    "xwin.make_move((1,0), PLAYER_X)\n",
    "xwin.make_move((0,1), PLAYER_O)\n",
    "xwin.make_move((1,2), PLAYER_X)\n",
    "assert(xwin.result() == xwin.X_WIN)\n",
    "xwin = Board(stateX=0, stateO=0)\n",
    "xwin.make_move((1,1), PLAYER_X)\n",
    "xwin.make_move((1,0), PLAYER_O)\n",
    "xwin.make_move((0,0), PLAYER_X)\n",
    "xwin.make_move((0,1), PLAYER_O)\n",
    "xwin.make_move((2,2), PLAYER_X)\n",
    "assert(xwin.result() == xwin.X_WIN)\n",
    "\n",
    "no_result = Board(stateX=0, stateO=0)\n",
    "assert(no_result.result() == no_result.NO_RESULT)\n"
   ]
  },
  {
   "cell_type": "code",
   "execution_count": 48,
   "metadata": {},
   "outputs": [
    {
     "data": {
      "text/plain": [
       "[(0, 2), (2, 0), (2, 1), (2, 2)]"
      ]
     },
     "execution_count": 48,
     "metadata": {},
     "output_type": "execute_result"
    }
   ],
   "source": [
    "board = Board(stateX=0, stateO=0)\n",
    "board.make_move((1,1), PLAYER_X)\n",
    "board.make_move((0,0), PLAYER_O)\n",
    "board.make_move((1,0), PLAYER_X)\n",
    "board.make_move((0,1), PLAYER_O)\n",
    "board.make_move((1,2), PLAYER_X)\n",
    "board.get_legal_moves()"
   ]
  }
 ],
 "metadata": {
  "kernelspec": {
   "display_name": "Python 3.10.2 64-bit",
   "language": "python",
   "name": "python3"
  },
  "language_info": {
   "codemirror_mode": {
    "name": "ipython",
    "version": 3
   },
   "file_extension": ".py",
   "mimetype": "text/x-python",
   "name": "python",
   "nbconvert_exporter": "python",
   "pygments_lexer": "ipython3",
   "version": "3.10.2"
  },
  "orig_nbformat": 4,
  "vscode": {
   "interpreter": {
    "hash": "aee8b7b246df8f9039afb4144a1f6fd8d2ca17a180786b69acc140d282b71a49"
   }
  }
 },
 "nbformat": 4,
 "nbformat_minor": 2
}
